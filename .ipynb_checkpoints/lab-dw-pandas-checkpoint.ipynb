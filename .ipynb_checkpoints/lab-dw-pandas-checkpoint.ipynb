{
 "cells": [
  {
   "cell_type": "markdown",
   "id": "25d7736c-ba17-4aff-b6bb-66eba20fbf4e",
   "metadata": {},
   "source": [
    "# Lab | Pandas"
   ]
  },
  {
   "cell_type": "markdown",
   "id": "d1973e9e-8be6-4039-b70e-d73ee0d94c99",
   "metadata": {},
   "source": [
    "In this lab, we will be working with the customer data from an insurance company, which can be found in the CSV file located at the following link: https://raw.githubusercontent.com/data-bootcamp-v4/data/main/file1.csv\n",
    "\n",
    "The data includes information such as customer ID, state, gender, education, income, and other variables that can be used to perform various analyses.\n",
    "\n",
    "Throughout the lab, we will be using the pandas library in Python to manipulate and analyze the data. Pandas is a powerful library that provides various data manipulation and analysis tools, including the ability to load and manipulate data from a variety of sources, including CSV files."
   ]
  },
  {
   "cell_type": "markdown",
   "id": "8045146f-f4f7-44d9-8cd9-130d6400c73a",
   "metadata": {},
   "source": [
    "### Data Description\n",
    "\n",
    "- Customer - Customer ID\n",
    "\n",
    "- ST - State where customers live\n",
    "\n",
    "- Gender - Gender of the customer\n",
    "\n",
    "- Education - Background education of customers \n",
    "\n",
    "- Customer Lifetime Value - Customer lifetime value(CLV) is the total revenue the client will derive from their entire relationship with a customer. In other words, is the predicted or calculated value of a customer over their entire duration as a policyholder with the insurance company. It is an estimation of the net profit that the insurance company expects to generate from a customer throughout their relationship with the company. Customer Lifetime Value takes into account factors such as the duration of the customer's policy, premium payments, claim history, renewal likelihood, and potential additional services or products the customer may purchase. It helps insurers assess the long-term profitability and value associated with retaining a particular customer.\n",
    "\n",
    "- Income - Customers income\n",
    "\n",
    "- Monthly Premium Auto - Amount of money the customer pays on a monthly basis as a premium for their auto insurance coverage. It represents the recurring cost that the insured person must pay to maintain their insurance policy and receive coverage for potential damages, accidents, or other covered events related to their vehicle.\n",
    "\n",
    "- Number of Open Complaints - Number of complaints the customer opened\n",
    "\n",
    "- Policy Type - There are three type of policies in car insurance (Corporate Auto, Personal Auto, and Special Auto)\n",
    "\n",
    "- Vehicle Class - Type of vehicle classes that customers have Two-Door Car, Four-Door Car SUV, Luxury SUV, Sports Car, and Luxury Car\n",
    "\n",
    "- Total Claim Amount - the sum of all claims made by the customer. It represents the total monetary value of all approved claims for incidents such as accidents, theft, vandalism, or other covered events.\n"
   ]
  },
  {
   "cell_type": "markdown",
   "id": "3a72419b-20fc-4905-817a-8c83abc59de6",
   "metadata": {},
   "source": [
    "External Resources: https://towardsdatascience.com/filtering-data-frames-in-pandas-b570b1f834b9"
   ]
  },
  {
   "cell_type": "markdown",
   "id": "8f8ece17-e919-4e23-96c0-c7c59778436a",
   "metadata": {},
   "source": [
    "## Challenge 1: Understanding the data\n",
    "\n",
    "In this challenge, you will use pandas to explore a given dataset. Your task is to gain a deep understanding of the data by analyzing its characteristics, dimensions, and statistical properties."
   ]
  },
  {
   "cell_type": "markdown",
   "id": "91437bd5-59a6-49c0-8150-ef0e6e6eb253",
   "metadata": {},
   "source": [
    "- Identify the dimensions of the dataset by determining the number of rows and columns it contains.\n",
    "- Determine the data types of each column and evaluate whether they are appropriate for the nature of the variable. You should also provide suggestions for fixing any incorrect data types.\n",
    "- Identify the number of unique values for each column and determine which columns appear to be categorical. You should also describe the unique values of each categorical column and the range of values for numerical columns, and give your insights.\n",
    "- Compute summary statistics such as mean, median, mode, standard deviation, and quartiles to understand the central tendency and distribution of the data for numerical columns. You should also provide your conclusions based on these summary statistics.\n",
    "- Compute summary statistics for categorical columns and providing your conclusions based on these statistics."
   ]
  },
  {
   "cell_type": "code",
   "execution_count": 3,
   "id": "dd4e8cd8-a6f6-486c-a5c4-1745b0c035f4",
   "metadata": {},
   "outputs": [],
   "source": [
    "import pandas as pd"
   ]
  },
  {
   "cell_type": "code",
   "execution_count": 12,
   "id": "5b3cb56c-21b3-4d8d-ba70-16804bf287b2",
   "metadata": {},
   "outputs": [
    {
     "data": {
      "text/html": [
       "<div>\n",
       "<style scoped>\n",
       "    .dataframe tbody tr th:only-of-type {\n",
       "        vertical-align: middle;\n",
       "    }\n",
       "\n",
       "    .dataframe tbody tr th {\n",
       "        vertical-align: top;\n",
       "    }\n",
       "\n",
       "    .dataframe thead th {\n",
       "        text-align: right;\n",
       "    }\n",
       "</style>\n",
       "<table border=\"1\" class=\"dataframe\">\n",
       "  <thead>\n",
       "    <tr style=\"text-align: right;\">\n",
       "      <th></th>\n",
       "      <th>Customer</th>\n",
       "      <th>ST</th>\n",
       "      <th>GENDER</th>\n",
       "      <th>Education</th>\n",
       "      <th>Customer Lifetime Value</th>\n",
       "      <th>Income</th>\n",
       "      <th>Monthly Premium Auto</th>\n",
       "      <th>Number of Open Complaints</th>\n",
       "      <th>Policy Type</th>\n",
       "      <th>Vehicle Class</th>\n",
       "      <th>Total Claim Amount</th>\n",
       "    </tr>\n",
       "  </thead>\n",
       "  <tbody>\n",
       "    <tr>\n",
       "      <th>0</th>\n",
       "      <td>RB50392</td>\n",
       "      <td>Washington</td>\n",
       "      <td>NaN</td>\n",
       "      <td>Master</td>\n",
       "      <td>NaN</td>\n",
       "      <td>0.0</td>\n",
       "      <td>1000.0</td>\n",
       "      <td>1/0/00</td>\n",
       "      <td>Personal Auto</td>\n",
       "      <td>Four-Door Car</td>\n",
       "      <td>2.704934</td>\n",
       "    </tr>\n",
       "    <tr>\n",
       "      <th>1</th>\n",
       "      <td>QZ44356</td>\n",
       "      <td>Arizona</td>\n",
       "      <td>F</td>\n",
       "      <td>Bachelor</td>\n",
       "      <td>697953.59%</td>\n",
       "      <td>0.0</td>\n",
       "      <td>94.0</td>\n",
       "      <td>1/0/00</td>\n",
       "      <td>Personal Auto</td>\n",
       "      <td>Four-Door Car</td>\n",
       "      <td>1131.464935</td>\n",
       "    </tr>\n",
       "    <tr>\n",
       "      <th>2</th>\n",
       "      <td>AI49188</td>\n",
       "      <td>Nevada</td>\n",
       "      <td>F</td>\n",
       "      <td>Bachelor</td>\n",
       "      <td>1288743.17%</td>\n",
       "      <td>48767.0</td>\n",
       "      <td>108.0</td>\n",
       "      <td>1/0/00</td>\n",
       "      <td>Personal Auto</td>\n",
       "      <td>Two-Door Car</td>\n",
       "      <td>566.472247</td>\n",
       "    </tr>\n",
       "    <tr>\n",
       "      <th>3</th>\n",
       "      <td>WW63253</td>\n",
       "      <td>California</td>\n",
       "      <td>M</td>\n",
       "      <td>Bachelor</td>\n",
       "      <td>764586.18%</td>\n",
       "      <td>0.0</td>\n",
       "      <td>106.0</td>\n",
       "      <td>1/0/00</td>\n",
       "      <td>Corporate Auto</td>\n",
       "      <td>SUV</td>\n",
       "      <td>529.881344</td>\n",
       "    </tr>\n",
       "    <tr>\n",
       "      <th>4</th>\n",
       "      <td>GA49547</td>\n",
       "      <td>Washington</td>\n",
       "      <td>M</td>\n",
       "      <td>High School or Below</td>\n",
       "      <td>536307.65%</td>\n",
       "      <td>36357.0</td>\n",
       "      <td>68.0</td>\n",
       "      <td>1/0/00</td>\n",
       "      <td>Personal Auto</td>\n",
       "      <td>Four-Door Car</td>\n",
       "      <td>17.269323</td>\n",
       "    </tr>\n",
       "  </tbody>\n",
       "</table>\n",
       "</div>"
      ],
      "text/plain": [
       "  Customer          ST GENDER             Education Customer Lifetime Value  \\\n",
       "0  RB50392  Washington    NaN                Master                     NaN   \n",
       "1  QZ44356     Arizona      F              Bachelor              697953.59%   \n",
       "2  AI49188      Nevada      F              Bachelor             1288743.17%   \n",
       "3  WW63253  California      M              Bachelor              764586.18%   \n",
       "4  GA49547  Washington      M  High School or Below              536307.65%   \n",
       "\n",
       "    Income  Monthly Premium Auto Number of Open Complaints     Policy Type  \\\n",
       "0      0.0                1000.0                    1/0/00   Personal Auto   \n",
       "1      0.0                  94.0                    1/0/00   Personal Auto   \n",
       "2  48767.0                 108.0                    1/0/00   Personal Auto   \n",
       "3      0.0                 106.0                    1/0/00  Corporate Auto   \n",
       "4  36357.0                  68.0                    1/0/00   Personal Auto   \n",
       "\n",
       "   Vehicle Class  Total Claim Amount  \n",
       "0  Four-Door Car            2.704934  \n",
       "1  Four-Door Car         1131.464935  \n",
       "2   Two-Door Car          566.472247  \n",
       "3            SUV          529.881344  \n",
       "4  Four-Door Car           17.269323  "
      ]
     },
     "execution_count": 12,
     "metadata": {},
     "output_type": "execute_result"
    }
   ],
   "source": [
    "url = \"https://raw.githubusercontent.com/data-bootcamp-v4/data/main/file1.csv\"\n",
    "dataset_series = pd.read_csv(url)\n",
    "dataset_series.head()"
   ]
  },
  {
   "cell_type": "markdown",
   "id": "4a703890-63db-4944-b7ab-95a4f8185120",
   "metadata": {},
   "source": [
    "## Challenge 2: analyzing the data"
   ]
  },
  {
   "cell_type": "markdown",
   "id": "0776a403-c56a-452f-ac33-5fd4fdb06fc7",
   "metadata": {},
   "source": [
    "### Exercise 1"
   ]
  },
  {
   "cell_type": "markdown",
   "id": "eedbc484-da4d-4f9c-9343-e1d44311a87e",
   "metadata": {},
   "source": [
    "The marketing team wants to know the top 5 less common customer locations. Create a pandas Series object that contains the customer locations and their frequencies, and then retrieve the top 5 less common locations in ascending order."
   ]
  },
  {
   "cell_type": "code",
   "execution_count": 35,
   "id": "2dca5073-4520-4f42-9390-4b92733284ed",
   "metadata": {},
   "outputs": [
    {
     "data": {
      "text/plain": [
       "ST\n",
       "Oregon        320\n",
       "California    211\n",
       "Arizona       186\n",
       "Cali          120\n",
       "Nevada         98\n",
       "Washington     81\n",
       "WA             30\n",
       "AZ             25\n",
       "Name: count, dtype: int64"
      ]
     },
     "execution_count": 35,
     "metadata": {},
     "output_type": "execute_result"
    }
   ],
   "source": [
    "location_counts = dataset_series[\"ST\"].value_counts()\n",
    "location_counts\n"
   ]
  },
  {
   "cell_type": "code",
   "execution_count": 37,
   "id": "a76e0c11-0983-4965-8120-d3dddec94b2e",
   "metadata": {},
   "outputs": [
    {
     "data": {
      "text/plain": [
       "ST\n",
       "Cali          120\n",
       "Nevada         98\n",
       "Washington     81\n",
       "WA             30\n",
       "AZ             25\n",
       "Name: count, dtype: int64"
      ]
     },
     "execution_count": 37,
     "metadata": {},
     "output_type": "execute_result"
    }
   ],
   "source": [
    "top5_least_common = location_counts.tail(5)\n",
    "top5_least_common"
   ]
  },
  {
   "cell_type": "code",
   "execution_count": 40,
   "id": "3974e349-6fa8-4ccb-b186-d9d5fab10bf3",
   "metadata": {},
   "outputs": [
    {
     "data": {
      "text/plain": [
       "ST\n",
       "AZ             25\n",
       "WA             30\n",
       "Washington     81\n",
       "Nevada         98\n",
       "Cali          120\n",
       "Name: count, dtype: int64"
      ]
     },
     "execution_count": 40,
     "metadata": {},
     "output_type": "execute_result"
    }
   ],
   "source": [
    "top5_least_common_sorted = top5_least_common.sort_values(ascending=True)\n",
    "top5_least_common_sorted"
   ]
  },
  {
   "cell_type": "markdown",
   "id": "0ce80f43-4afa-43c7-a78a-c917444da4e0",
   "metadata": {},
   "source": [
    "### Exercise 2\n",
    "\n",
    "The sales team wants to know the total number of policies sold for each type of policy. Create a pandas Series object that contains the policy types and their total number of policies sold, and then retrieve the policy type with the highest number of policies sold."
   ]
  },
  {
   "cell_type": "markdown",
   "id": "a9f13997-1555-4f98-aca6-970fda1d2c3f",
   "metadata": {},
   "source": [
    "*Hint:*\n",
    "- *Using value_counts() method simplifies this analysis.*\n",
    "- *Futhermore, there is a method that returns the index of the maximum value in a column or row.*\n"
   ]
  },
  {
   "cell_type": "code",
   "execution_count": 41,
   "id": "bcfad6c1-9af2-4b0b-9aa9-0dc5c17473c0",
   "metadata": {
    "scrolled": true
   },
   "outputs": [
    {
     "data": {
      "text/plain": [
       "Policy Type\n",
       "Personal Auto     780\n",
       "Corporate Auto    234\n",
       "Special Auto       57\n",
       "Name: count, dtype: int64"
      ]
     },
     "execution_count": 41,
     "metadata": {},
     "output_type": "execute_result"
    }
   ],
   "source": [
    "total_policies_sold = dataset_series[\"Policy Type\"].value_counts()\n",
    "total_policies_sold"
   ]
  },
  {
   "cell_type": "code",
   "execution_count": 42,
   "id": "28bc1ec4-6f78-4fba-9180-d24742be2068",
   "metadata": {},
   "outputs": [
    {
     "data": {
      "text/plain": [
       "'Personal Auto'"
      ]
     },
     "execution_count": 42,
     "metadata": {},
     "output_type": "execute_result"
    }
   ],
   "source": [
    "total_policies_sold.idxmax()"
   ]
  },
  {
   "cell_type": "markdown",
   "id": "0b863fd3-bf91-4d5d-86eb-be29ed9f5b70",
   "metadata": {},
   "source": [
    "### Exercise 3\n",
    "\n",
    "The sales team wants to know if customers with Personal Auto have a lower income than those with Corporate Auto. How does the average income compare between the two policy types?"
   ]
  },
  {
   "cell_type": "markdown",
   "id": "b1386d75-2810-4aa1-93e0-9485aa12d552",
   "metadata": {},
   "source": [
    "- Use *loc* to create two dataframes: one containing only Personal Auto policies and one containing only Corporate Auto policies.\n",
    "- Calculate the average income for each policy.\n",
    "- Print the results."
   ]
  },
  {
   "cell_type": "code",
   "execution_count": 57,
   "id": "0c0563cf-6f8b-463d-a321-651a972f82e5",
   "metadata": {},
   "outputs": [
    {
     "name": "stdout",
     "output_type": "stream",
     "text": [
      "     Customer          ST GENDER             Education  \\\n",
      "0     RB50392  Washington    NaN                Master   \n",
      "1     QZ44356     Arizona      F              Bachelor   \n",
      "2     AI49188      Nevada      F              Bachelor   \n",
      "4     GA49547  Washington      M  High School or Below   \n",
      "5     OC83172      Oregon      F              Bachelor   \n",
      "...       ...         ...    ...                   ...   \n",
      "1065  XD85577        Cali      M              Bachelor   \n",
      "1066  TM65736      Oregon      M                Master   \n",
      "1067  VJ51327        Cali      F  High School or Below   \n",
      "1068  GS98873     Arizona      F              Bachelor   \n",
      "1070  MY31220  California      F               College   \n",
      "\n",
      "     Customer Lifetime Value   Income  Monthly Premium Auto  \\\n",
      "0                        NaN      0.0                1000.0   \n",
      "1                 697953.59%      0.0                  94.0   \n",
      "2                1288743.17%  48767.0                 108.0   \n",
      "4                 536307.65%  36357.0                  68.0   \n",
      "5                 825629.78%  62902.0                  69.0   \n",
      "...                      ...      ...                   ...   \n",
      "1065              284226.69%  69417.0                  73.0   \n",
      "1066              305955.03%  38644.0                  78.0   \n",
      "1067             2031499.76%  63209.0                 102.0   \n",
      "1068              323912.47%  16061.0                  88.0   \n",
      "1070              899704.02%  54230.0                 112.0   \n",
      "\n",
      "     Number of Open Complaints    Policy Type  Vehicle Class  \\\n",
      "0                       1/0/00  Personal Auto  Four-Door Car   \n",
      "1                       1/0/00  Personal Auto  Four-Door Car   \n",
      "2                       1/0/00  Personal Auto   Two-Door Car   \n",
      "4                       1/0/00  Personal Auto  Four-Door Car   \n",
      "5                       1/0/00  Personal Auto   Two-Door Car   \n",
      "...                        ...            ...            ...   \n",
      "1065                    1/1/00  Personal Auto  Four-Door Car   \n",
      "1066                    1/1/00  Personal Auto  Four-Door Car   \n",
      "1067                    1/2/00  Personal Auto            SUV   \n",
      "1068                    1/0/00  Personal Auto  Four-Door Car   \n",
      "1070                    1/0/00  Personal Auto   Two-Door Car   \n",
      "\n",
      "      Total Claim Amount  \n",
      "0               2.704934  \n",
      "1            1131.464935  \n",
      "2             566.472247  \n",
      "4              17.269323  \n",
      "5             159.383042  \n",
      "...                  ...  \n",
      "1065           30.874869  \n",
      "1066          361.455219  \n",
      "1067          207.320041  \n",
      "1068          633.600000  \n",
      "1070          537.600000  \n",
      "\n",
      "[780 rows x 11 columns]\n"
     ]
    }
   ],
   "source": [
    "df = pd.read_csv(\"https://raw.githubusercontent.com/data-bootcamp-v4/data/main/file1.csv\")\n",
    "personal_auto_df = df.loc[df[\"Policy Type\"] == \"Personal Auto\"]\n",
    "print(personal_auto_df)"
   ]
  },
  {
   "cell_type": "code",
   "execution_count": 61,
   "id": "ebc81d69-efa3-4942-b310-8df159ec3458",
   "metadata": {},
   "outputs": [
    {
     "name": "stdout",
     "output_type": "stream",
     "text": [
      "Average income: 38180.69871794872\n"
     ]
    }
   ],
   "source": [
    "average_income = personal_auto_df[\"Income\"].mean()\n",
    "print(\"Average income:\", average_income)"
   ]
  },
  {
   "cell_type": "code",
   "execution_count": 59,
   "id": "1d803778-6923-45c2-96e2-9e94993d273b",
   "metadata": {
    "scrolled": true
   },
   "outputs": [
    {
     "name": "stdout",
     "output_type": "stream",
     "text": [
      "     Customer          ST GENDER             Education  \\\n",
      "3     WW63253  California      M              Bachelor   \n",
      "6     XZ87318      Oregon      F               College   \n",
      "7     CF85061     Arizona      M                Master   \n",
      "8     DY87989      Oregon      M              Bachelor   \n",
      "12    DP39365  California    NaN                Master   \n",
      "...       ...         ...    ...                   ...   \n",
      "1045  WZ31900      Oregon      F              Bachelor   \n",
      "1050  BJ53923     Arizona      M  High School or Below   \n",
      "1052  FB23788      Oregon      M  High School or Below   \n",
      "1056  PI47776      Oregon      F              Bachelor   \n",
      "1059  YG44474      Oregon      M               College   \n",
      "\n",
      "     Customer Lifetime Value   Income  Monthly Premium Auto  \\\n",
      "3                 764586.18%      0.0                 106.0   \n",
      "6                 538089.86%  55350.0                  67.0   \n",
      "7                 721610.03%      0.0                 101.0   \n",
      "8                2412750.40%  14072.0                  71.0   \n",
      "12                879879.70%  77026.0                 110.0   \n",
      "...                      ...      ...                   ...   \n",
      "1045              864970.06%  94389.0                 107.0   \n",
      "1050              260027.21%  51978.0                  66.0   \n",
      "1052              882883.50%  86721.0                 111.0   \n",
      "1056              253070.51%  89451.0                  63.0   \n",
      "1059             1401472.13%  54193.0                 117.0   \n",
      "\n",
      "     Number of Open Complaints     Policy Type  Vehicle Class  \\\n",
      "3                       1/0/00  Corporate Auto            SUV   \n",
      "6                       1/0/00  Corporate Auto  Four-Door Car   \n",
      "7                       1/0/00  Corporate Auto  Four-Door Car   \n",
      "8                       1/0/00  Corporate Auto  Four-Door Car   \n",
      "12                      1/2/00  Corporate Auto  Four-Door Car   \n",
      "...                        ...             ...            ...   \n",
      "1045                    1/0/00  Corporate Auto            SUV   \n",
      "1050                    1/0/00  Corporate Auto  Four-Door Car   \n",
      "1052                    1/0/00  Corporate Auto            SUV   \n",
      "1056                    1/0/00  Corporate Auto  Four-Door Car   \n",
      "1059                    1/0/00  Corporate Auto            SUV   \n",
      "\n",
      "      Total Claim Amount  \n",
      "3             529.881344  \n",
      "6             321.600000  \n",
      "7             363.029680  \n",
      "8             511.200000  \n",
      "12            472.029737  \n",
      "...                  ...  \n",
      "1045           85.063708  \n",
      "1050          144.782152  \n",
      "1052          532.800000  \n",
      "1056           61.769564  \n",
      "1059          720.752945  \n",
      "\n",
      "[234 rows x 11 columns]\n"
     ]
    }
   ],
   "source": [
    "corporate_auto_df = df.loc[df[\"Policy Type\"] == \"Corporate Auto\"]\n",
    "print(corporate_auto_df)"
   ]
  },
  {
   "cell_type": "code",
   "execution_count": 62,
   "id": "d89fe84e-e23b-4ea6-8d72-80239029a6eb",
   "metadata": {},
   "outputs": [
    {
     "name": "stdout",
     "output_type": "stream",
     "text": [
      "Average income: 41390.31196581197\n"
     ]
    }
   ],
   "source": [
    "average_income = corporate_auto_df[\"Income\"].mean()\n",
    "print(\"Average income:\", average_income)"
   ]
  },
  {
   "cell_type": "markdown",
   "id": "80b16c27-f4a5-4727-a229-1f88671cf4e2",
   "metadata": {},
   "source": [
    "### Bonus: Exercise 4\n"
   ]
  },
  {
   "cell_type": "markdown",
   "id": "ac584986-299b-475f-ac2e-928c16c3f512",
   "metadata": {},
   "source": [
    "Your goal is to identify customers with a high policy claim amount.\n",
    "\n",
    "Instructions:\n",
    "\n",
    "- Review again the statistics for total claim amount to gain an understanding of the data.\n",
    "- To identify potential areas for improving customer retention and profitability, we want to focus on customers with a high policy claim amount. Consider customers with a high policy claim amount to be those in the top 25% of the total claim amount. Create a pandas DataFrame object that contains information about customers with a policy claim amount greater than the 75th percentile.\n",
    "- Use DataFrame methods to calculate summary statistics about the high policy claim amount data. "
   ]
  },
  {
   "cell_type": "markdown",
   "id": "4e3af5f1-6023-4b05-9c01-d05392daa650",
   "metadata": {},
   "source": [
    "*Note: When analyzing data, we often want to focus on certain groups of values to gain insights. Percentiles are a useful tool to help us define these groups. A percentile is a measure that tells us what percentage of values in a dataset are below a certain value. For example, the 75th percentile represents the value below which 75% of the data falls. Similarly, the 25th percentile represents the value below which 25% of the data falls. When we talk about the top 25%, we are referring to the values that fall above the 75th percentile, which represent the top quarter of the data. On the other hand, when we talk about the bottom 25%, we are referring to the values that fall below the 25th percentile, which represent the bottom quarter of the data. By focusing on these groups, we can identify patterns and trends that may be useful for making decisions and taking action.*\n",
    "\n",
    "*Hint: look for a method that gives you the percentile or quantile 0.75 and 0.25 for a Pandas Series.*"
   ]
  },
  {
   "cell_type": "markdown",
   "id": "2d234634-50bd-41e0-88f7-d5ba684455d1",
   "metadata": {},
   "source": [
    "*Hint 2: check `Boolean selection according to the values of a single column` in https://towardsdatascience.com/filtering-data-frames-in-pandas-b570b1f834b9*"
   ]
  },
  {
   "cell_type": "code",
   "execution_count": 63,
   "id": "b731bca6-a760-4860-a27b-a33efa712ce0",
   "metadata": {},
   "outputs": [
    {
     "name": "stdout",
     "output_type": "stream",
     "text": [
      "count    1071.000000\n",
      "mean      404.986909\n",
      "std       293.027260\n",
      "min         0.382107\n",
      "25%       202.157702\n",
      "50%       354.729129\n",
      "75%       532.800000\n",
      "max      2893.239678\n",
      "Name: Total Claim Amount, dtype: float64\n"
     ]
    }
   ],
   "source": [
    "print(df[\"Total Claim Amount\"].describe())\n"
   ]
  },
  {
   "cell_type": "code",
   "execution_count": 65,
   "id": "a8591e26-7955-4b41-ad9b-680b8a0477a5",
   "metadata": {},
   "outputs": [
    {
     "name": "stdout",
     "output_type": "stream",
     "text": [
      "25-й перцентиль (Q1) суммы претензий: $202.16\n",
      "75-й перцентиль (Q3) суммы претензий: $532.80\n"
     ]
    }
   ],
   "source": [
    "q25 = df[\"Total Claim Amount\"].quantile(0.25)  # 25-й перцентиль\n",
    "q75 = df[\"Total Claim Amount\"].quantile(0.75)  # 75-й перцентиль\n",
    "print(f\"25-й перцентиль (Q1) суммы претензий: ${q25:.2f}\")\n",
    "print(f\"75-й перцентиль (Q3) суммы претензий: ${q75:.2f}\")"
   ]
  },
  {
   "cell_type": "code",
   "execution_count": 66,
   "id": "cc7aff03-7fd4-4b1b-ac10-738b67f309a7",
   "metadata": {},
   "outputs": [
    {
     "name": "stdout",
     "output_type": "stream",
     "text": [
      "\n",
      "Статистика для клиентов с высокими претензиями:\n",
      "             Income  Monthly Premium Auto  Total Claim Amount\n",
      "count    264.000000            264.000000          264.000000\n",
      "mean   23677.344697            165.193182          782.228263\n",
      "std    27013.483721            623.930992          292.751640\n",
      "min        0.000000             63.000000          537.600000\n",
      "25%        0.000000             99.000000          606.521741\n",
      "50%    18807.000000            114.000000          679.597985\n",
      "75%    42423.750000            133.250000          851.400000\n",
      "max    99316.000000          10202.000000         2893.239678\n",
      "\n",
      "Статистика для клиентов с низкими претензиями:\n",
      "             Income  Monthly Premium Auto  Total Claim Amount\n",
      "count    268.000000            268.000000          268.000000\n",
      "mean   55345.757463            444.138060           92.020713\n",
      "std    25312.207830           3130.681063           54.926531\n",
      "min        0.000000             61.000000            0.382107\n",
      "25%    36650.000000             66.000000           47.917904\n",
      "50%    54231.000000             72.000000           86.390802\n",
      "75%    75224.750000             98.250000          138.278755\n",
      "max    99790.000000          35354.000000          201.455005\n"
     ]
    }
   ],
   "source": [
    "\n",
    "high_claims_df = df[df[\"Total Claim Amount\"] > q75]\n",
    "\n",
    "\n",
    "low_claims_df = df[df[\"Total Claim Amount\"] < q25]\n",
    "\n",
    "\n",
    "print(\"\\nstatistic for clients with high:\")\n",
    "print(high_claims_df.describe())\n",
    "\n",
    "\n",
    "print(\"\\n:statistic for clients with low:\")\n",
    "print(low_claims_df.describe())"
   ]
  },
  {
   "cell_type": "code",
   "execution_count": null,
   "id": "0bb517e3-2456-4b99-9710-6868194d434e",
   "metadata": {},
   "outputs": [],
   "source": []
  }
 ],
 "metadata": {
  "kernelspec": {
   "display_name": "Python 3 (ipykernel)",
   "language": "python",
   "name": "python3"
  },
  "language_info": {
   "codemirror_mode": {
    "name": "ipython",
    "version": 3
   },
   "file_extension": ".py",
   "mimetype": "text/x-python",
   "name": "python",
   "nbconvert_exporter": "python",
   "pygments_lexer": "ipython3",
   "version": "3.13.3"
  }
 },
 "nbformat": 4,
 "nbformat_minor": 5
}
